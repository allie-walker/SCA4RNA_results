{
 "cells": [
  {
   "cell_type": "markdown",
   "metadata": {},
   "source": [
    "# Determine SCA coupling\n",
    "enter values for position 1 and 2 (E. coli numbering) and click the run button above"
   ]
  },
  {
   "cell_type": "code",
   "execution_count": 4,
   "metadata": {},
   "outputs": [
    {
     "name": "stdout",
     "output_type": "stream",
     "text": [
      "Coupling value: 0.026\n",
      "This coupling value is in the top 10.27% of coupling values, not including position's coupling to themselves\n"
     ]
    }
   ],
   "source": [
    "position1 = 4\n",
    "position2 = 5\n",
    "\n",
    "import coupling_matrix_tools as cmt\n",
    "(coupling, percentile) = cmt.getCouplingInfo(position1,position2)\n",
    "if coupling == None:\n",
    "    print(\"position \" + str(percentile) + \" is not in the alignment\")\n",
    "\n",
    "print(\"Coupling value: \" + str(coupling))    \n",
    "if percentile == -1:\n",
    "    print(\"could not determine percentile, likely because positions coupling to themselves are not included\")\n",
    "else:\n",
    "    print(\"This coupling value is in the top \" + str(percentile)[0:5] + \"% of coupling values, not including position's coupling to themselves\")"
   ]
  },
  {
   "cell_type": "code",
   "execution_count": null,
   "metadata": {},
   "outputs": [],
   "source": []
  }
 ],
 "metadata": {
  "kernelspec": {
   "display_name": "Python 3",
   "language": "python",
   "name": "python3"
  },
  "language_info": {
   "codemirror_mode": {
    "name": "ipython",
    "version": 3
   },
   "file_extension": ".py",
   "mimetype": "text/x-python",
   "name": "python",
   "nbconvert_exporter": "python",
   "pygments_lexer": "ipython3",
   "version": "3.7.6"
  }
 },
 "nbformat": 4,
 "nbformat_minor": 4
}
